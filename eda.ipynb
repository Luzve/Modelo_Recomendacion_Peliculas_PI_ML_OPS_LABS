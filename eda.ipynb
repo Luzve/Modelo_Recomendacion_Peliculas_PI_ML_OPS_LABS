{
 "cells": [
  {
   "attachments": {},
   "cell_type": "markdown",
   "metadata": {},
   "source": [
    "# Análisis Exploratorio de Datos (E.D.A.)"
   ]
  },
  {
   "cell_type": "code",
   "execution_count": 2,
   "metadata": {},
   "outputs": [],
   "source": [
    "# Importamos las librerias a utilizar\n",
    "import pandas as pd\n",
    "import numpy as np\n",
    "import seaborn as sns\n",
    "import matplotlib.pyplot as plt\n",
    "from ydata_profiling import ProfileReport\n",
    "\n",
    "%matplotlib inline\n"
   ]
  },
  {
   "cell_type": "code",
   "execution_count": 3,
   "metadata": {},
   "outputs": [
    {
     "name": "stderr",
     "output_type": "stream",
     "text": [
      "C:\\Users\\ABANIBI\\AppData\\Local\\Temp\\ipykernel_17628\\2795674273.py:2: DtypeWarning: Columns (6) have mixed types. Specify dtype option on import or set low_memory=False.\n",
      "  movies_data = pd.read_csv('data_movies.csv')\n"
     ]
    },
    {
     "data": {
      "text/html": [
       "<div>\n",
       "<style scoped>\n",
       "    .dataframe tbody tr th:only-of-type {\n",
       "        vertical-align: middle;\n",
       "    }\n",
       "\n",
       "    .dataframe tbody tr th {\n",
       "        vertical-align: top;\n",
       "    }\n",
       "\n",
       "    .dataframe thead th {\n",
       "        text-align: right;\n",
       "    }\n",
       "</style>\n",
       "<table border=\"1\" class=\"dataframe\">\n",
       "  <thead>\n",
       "    <tr style=\"text-align: right;\">\n",
       "      <th></th>\n",
       "      <th>belongs_to_collection</th>\n",
       "      <th>budget</th>\n",
       "      <th>genres</th>\n",
       "      <th>id</th>\n",
       "      <th>original_language</th>\n",
       "      <th>overview</th>\n",
       "      <th>popularity</th>\n",
       "      <th>production_companies</th>\n",
       "      <th>production_countries</th>\n",
       "      <th>release_date</th>\n",
       "      <th>...</th>\n",
       "      <th>runtime</th>\n",
       "      <th>spoken_languages</th>\n",
       "      <th>status</th>\n",
       "      <th>tagline</th>\n",
       "      <th>title</th>\n",
       "      <th>vote_average</th>\n",
       "      <th>release_year</th>\n",
       "      <th>return</th>\n",
       "      <th>month</th>\n",
       "      <th>weekday</th>\n",
       "    </tr>\n",
       "  </thead>\n",
       "  <tbody>\n",
       "    <tr>\n",
       "      <th>0</th>\n",
       "      <td>Toy Story Collection</td>\n",
       "      <td>30000000.0</td>\n",
       "      <td>['Animation', 'Comedy', 'Family']</td>\n",
       "      <td>862</td>\n",
       "      <td>en</td>\n",
       "      <td>Led by Woody, Andy's toys live happily in his ...</td>\n",
       "      <td>21.946943</td>\n",
       "      <td>['Pixar Animation Studios']</td>\n",
       "      <td>['United States of America']</td>\n",
       "      <td>1995-10-30</td>\n",
       "      <td>...</td>\n",
       "      <td>81.0</td>\n",
       "      <td>['English']</td>\n",
       "      <td>Released</td>\n",
       "      <td>NaN</td>\n",
       "      <td>Toy Story</td>\n",
       "      <td>7.7</td>\n",
       "      <td>1995.0</td>\n",
       "      <td>12.451801</td>\n",
       "      <td>Octubre</td>\n",
       "      <td>Lunes</td>\n",
       "    </tr>\n",
       "    <tr>\n",
       "      <th>1</th>\n",
       "      <td>NaN</td>\n",
       "      <td>65000000.0</td>\n",
       "      <td>['Adventure', 'Fantasy', 'Family']</td>\n",
       "      <td>8844</td>\n",
       "      <td>en</td>\n",
       "      <td>When siblings Judy and Peter discover an encha...</td>\n",
       "      <td>17.015539</td>\n",
       "      <td>['TriStar Pictures', 'Teitler Film', 'Intersco...</td>\n",
       "      <td>['United States of America']</td>\n",
       "      <td>1995-12-15</td>\n",
       "      <td>...</td>\n",
       "      <td>104.0</td>\n",
       "      <td>['English', 'Français']</td>\n",
       "      <td>Released</td>\n",
       "      <td>Roll the dice and unleash the excitement!</td>\n",
       "      <td>Jumanji</td>\n",
       "      <td>6.9</td>\n",
       "      <td>1995.0</td>\n",
       "      <td>4.043035</td>\n",
       "      <td>Diciembre</td>\n",
       "      <td>Viernes</td>\n",
       "    </tr>\n",
       "    <tr>\n",
       "      <th>2</th>\n",
       "      <td>Grumpy Old Men Collection</td>\n",
       "      <td>0.0</td>\n",
       "      <td>['Romance', 'Comedy']</td>\n",
       "      <td>15602</td>\n",
       "      <td>en</td>\n",
       "      <td>A family wedding reignites the ancient feud be...</td>\n",
       "      <td>11.7129</td>\n",
       "      <td>['Warner Bros.', 'Lancaster Gate']</td>\n",
       "      <td>['United States of America']</td>\n",
       "      <td>1995-12-22</td>\n",
       "      <td>...</td>\n",
       "      <td>101.0</td>\n",
       "      <td>['English']</td>\n",
       "      <td>Released</td>\n",
       "      <td>Still Yelling. Still Fighting. Still Ready for...</td>\n",
       "      <td>Grumpier Old Men</td>\n",
       "      <td>6.5</td>\n",
       "      <td>1995.0</td>\n",
       "      <td>0.000000</td>\n",
       "      <td>Diciembre</td>\n",
       "      <td>Viernes</td>\n",
       "    </tr>\n",
       "  </tbody>\n",
       "</table>\n",
       "<p>3 rows × 21 columns</p>\n",
       "</div>"
      ],
      "text/plain": [
       "       belongs_to_collection      budget                              genres  \\\n",
       "0       Toy Story Collection  30000000.0   ['Animation', 'Comedy', 'Family']   \n",
       "1                        NaN  65000000.0  ['Adventure', 'Fantasy', 'Family']   \n",
       "2  Grumpy Old Men Collection         0.0               ['Romance', 'Comedy']   \n",
       "\n",
       "      id original_language                                           overview  \\\n",
       "0    862                en  Led by Woody, Andy's toys live happily in his ...   \n",
       "1   8844                en  When siblings Judy and Peter discover an encha...   \n",
       "2  15602                en  A family wedding reignites the ancient feud be...   \n",
       "\n",
       "  popularity                               production_companies  \\\n",
       "0  21.946943                        ['Pixar Animation Studios']   \n",
       "1  17.015539  ['TriStar Pictures', 'Teitler Film', 'Intersco...   \n",
       "2    11.7129                 ['Warner Bros.', 'Lancaster Gate']   \n",
       "\n",
       "           production_countries release_date  ...  runtime  \\\n",
       "0  ['United States of America']   1995-10-30  ...     81.0   \n",
       "1  ['United States of America']   1995-12-15  ...    104.0   \n",
       "2  ['United States of America']   1995-12-22  ...    101.0   \n",
       "\n",
       "          spoken_languages    status  \\\n",
       "0              ['English']  Released   \n",
       "1  ['English', 'Français']  Released   \n",
       "2              ['English']  Released   \n",
       "\n",
       "                                             tagline             title  \\\n",
       "0                                                NaN         Toy Story   \n",
       "1          Roll the dice and unleash the excitement!           Jumanji   \n",
       "2  Still Yelling. Still Fighting. Still Ready for...  Grumpier Old Men   \n",
       "\n",
       "  vote_average  release_year     return      month  weekday  \n",
       "0          7.7        1995.0  12.451801    Octubre    Lunes  \n",
       "1          6.9        1995.0   4.043035  Diciembre  Viernes  \n",
       "2          6.5        1995.0   0.000000  Diciembre  Viernes  \n",
       "\n",
       "[3 rows x 21 columns]"
      ]
     },
     "execution_count": 3,
     "metadata": {},
     "output_type": "execute_result"
    }
   ],
   "source": [
    "#Abrimos el csv con pandas para su posterior tratamiento y visualización\n",
    "movies_data = pd.read_csv('data_movies.csv')\n",
    "movies_data.head(3)"
   ]
  },
  {
   "cell_type": "code",
   "execution_count": 4,
   "metadata": {},
   "outputs": [
    {
     "data": {
      "text/plain": [
       "(45379, 21)"
      ]
     },
     "execution_count": 4,
     "metadata": {},
     "output_type": "execute_result"
    }
   ],
   "source": [
    "#Verificamos datos y columnas\n",
    "movies_data.shape"
   ]
  },
  {
   "cell_type": "code",
   "execution_count": 5,
   "metadata": {},
   "outputs": [
    {
     "name": "stdout",
     "output_type": "stream",
     "text": [
      "<class 'pandas.core.frame.DataFrame'>\n",
      "RangeIndex: 45379 entries, 0 to 45378\n",
      "Data columns (total 21 columns):\n",
      " #   Column                 Non-Null Count  Dtype  \n",
      "---  ------                 --------------  -----  \n",
      " 0   belongs_to_collection  4488 non-null   object \n",
      " 1   budget                 45376 non-null  float64\n",
      " 2   genres                 45379 non-null  object \n",
      " 3   id                     45379 non-null  object \n",
      " 4   original_language      45368 non-null  object \n",
      " 5   overview               44438 non-null  object \n",
      " 6   popularity             45377 non-null  object \n",
      " 7   production_companies   45379 non-null  object \n",
      " 8   production_countries   45379 non-null  object \n",
      " 9   release_date           45376 non-null  object \n",
      " 10  revenue                45379 non-null  float64\n",
      " 11  runtime                45130 non-null  float64\n",
      " 12  spoken_languages       45379 non-null  object \n",
      " 13  status                 45296 non-null  object \n",
      " 14  tagline                20398 non-null  object \n",
      " 15  title                  45376 non-null  object \n",
      " 16  vote_average           45376 non-null  float64\n",
      " 17  release_year           45376 non-null  float64\n",
      " 18  return                 45379 non-null  float64\n",
      " 19  month                  45376 non-null  object \n",
      " 20  weekday                45376 non-null  object \n",
      "dtypes: float64(6), object(15)\n",
      "memory usage: 7.3+ MB\n"
     ]
    }
   ],
   "source": [
    "#Verificamos datos del dataset valores nulos y tipos de datos\n",
    "movies_data.info()"
   ]
  },
  {
   "cell_type": "code",
   "execution_count": 6,
   "metadata": {},
   "outputs": [
    {
     "data": {
      "text/plain": [
       "belongs_to_collection    40891\n",
       "budget                       3\n",
       "genres                       0\n",
       "id                           0\n",
       "original_language           11\n",
       "overview                   941\n",
       "popularity                   2\n",
       "production_companies         0\n",
       "production_countries         0\n",
       "release_date                 3\n",
       "revenue                      0\n",
       "runtime                    249\n",
       "spoken_languages             0\n",
       "status                      83\n",
       "tagline                  24981\n",
       "title                        3\n",
       "vote_average                 3\n",
       "release_year                 3\n",
       "return                       0\n",
       "month                        3\n",
       "weekday                      3\n",
       "dtype: int64"
      ]
     },
     "execution_count": 6,
     "metadata": {},
     "output_type": "execute_result"
    }
   ],
   "source": [
    "#Verificamos lan cantidad de nulos registrados en las columnas\n",
    "movies_data.isnull().sum()"
   ]
  },
  {
   "cell_type": "code",
   "execution_count": 7,
   "metadata": {},
   "outputs": [],
   "source": [
    "#Eliminamos nulos\n",
    "data_sin_nulos = movies_data.dropna()"
   ]
  },
  {
   "cell_type": "code",
   "execution_count": 8,
   "metadata": {},
   "outputs": [
    {
     "data": {
      "text/plain": [
       "belongs_to_collection    0\n",
       "budget                   0\n",
       "genres                   0\n",
       "id                       0\n",
       "original_language        0\n",
       "overview                 0\n",
       "popularity               0\n",
       "production_companies     0\n",
       "production_countries     0\n",
       "release_date             0\n",
       "revenue                  0\n",
       "runtime                  0\n",
       "spoken_languages         0\n",
       "status                   0\n",
       "tagline                  0\n",
       "title                    0\n",
       "vote_average             0\n",
       "release_year             0\n",
       "return                   0\n",
       "month                    0\n",
       "weekday                  0\n",
       "dtype: int64"
      ]
     },
     "execution_count": 8,
     "metadata": {},
     "output_type": "execute_result"
    }
   ],
   "source": [
    "data_sin_nulos.isnull().sum()"
   ]
  },
  {
   "cell_type": "code",
   "execution_count": 9,
   "metadata": {},
   "outputs": [
    {
     "data": {
      "text/html": [
       "<div>\n",
       "<style scoped>\n",
       "    .dataframe tbody tr th:only-of-type {\n",
       "        vertical-align: middle;\n",
       "    }\n",
       "\n",
       "    .dataframe tbody tr th {\n",
       "        vertical-align: top;\n",
       "    }\n",
       "\n",
       "    .dataframe thead th {\n",
       "        text-align: right;\n",
       "    }\n",
       "</style>\n",
       "<table border=\"1\" class=\"dataframe\">\n",
       "  <thead>\n",
       "    <tr style=\"text-align: right;\">\n",
       "      <th></th>\n",
       "      <th>count</th>\n",
       "      <th>mean</th>\n",
       "      <th>std</th>\n",
       "      <th>min</th>\n",
       "      <th>25%</th>\n",
       "      <th>50%</th>\n",
       "      <th>75%</th>\n",
       "      <th>max</th>\n",
       "    </tr>\n",
       "  </thead>\n",
       "  <tbody>\n",
       "    <tr>\n",
       "      <th>budget</th>\n",
       "      <td>2572.0</td>\n",
       "      <td>2.231318e+07</td>\n",
       "      <td>4.487442e+07</td>\n",
       "      <td>0.0</td>\n",
       "      <td>0.0</td>\n",
       "      <td>800000.0</td>\n",
       "      <td>2.100000e+07</td>\n",
       "      <td>3.800000e+08</td>\n",
       "    </tr>\n",
       "    <tr>\n",
       "      <th>revenue</th>\n",
       "      <td>2572.0</td>\n",
       "      <td>9.255741e+07</td>\n",
       "      <td>2.074562e+08</td>\n",
       "      <td>0.0</td>\n",
       "      <td>0.0</td>\n",
       "      <td>53025.5</td>\n",
       "      <td>8.230738e+07</td>\n",
       "      <td>2.787965e+09</td>\n",
       "    </tr>\n",
       "    <tr>\n",
       "      <th>runtime</th>\n",
       "      <td>2572.0</td>\n",
       "      <td>9.926166e+01</td>\n",
       "      <td>2.368644e+01</td>\n",
       "      <td>0.0</td>\n",
       "      <td>88.0</td>\n",
       "      <td>96.0</td>\n",
       "      <td>1.080000e+02</td>\n",
       "      <td>4.760000e+02</td>\n",
       "    </tr>\n",
       "    <tr>\n",
       "      <th>vote_average</th>\n",
       "      <td>2572.0</td>\n",
       "      <td>5.857193e+00</td>\n",
       "      <td>1.233778e+00</td>\n",
       "      <td>0.0</td>\n",
       "      <td>5.2</td>\n",
       "      <td>6.0</td>\n",
       "      <td>6.600000e+00</td>\n",
       "      <td>1.000000e+01</td>\n",
       "    </tr>\n",
       "    <tr>\n",
       "      <th>release_year</th>\n",
       "      <td>2572.0</td>\n",
       "      <td>1.993670e+03</td>\n",
       "      <td>1.915561e+01</td>\n",
       "      <td>1930.0</td>\n",
       "      <td>1984.0</td>\n",
       "      <td>1999.0</td>\n",
       "      <td>2.009000e+03</td>\n",
       "      <td>2.017000e+03</td>\n",
       "    </tr>\n",
       "    <tr>\n",
       "      <th>return</th>\n",
       "      <td>2572.0</td>\n",
       "      <td>4.067766e+02</td>\n",
       "      <td>2.008678e+04</td>\n",
       "      <td>0.0</td>\n",
       "      <td>0.0</td>\n",
       "      <td>0.0</td>\n",
       "      <td>3.403844e+00</td>\n",
       "      <td>1.018619e+06</td>\n",
       "    </tr>\n",
       "  </tbody>\n",
       "</table>\n",
       "</div>"
      ],
      "text/plain": [
       "               count          mean           std     min     25%       50%  \\\n",
       "budget        2572.0  2.231318e+07  4.487442e+07     0.0     0.0  800000.0   \n",
       "revenue       2572.0  9.255741e+07  2.074562e+08     0.0     0.0   53025.5   \n",
       "runtime       2572.0  9.926166e+01  2.368644e+01     0.0    88.0      96.0   \n",
       "vote_average  2572.0  5.857193e+00  1.233778e+00     0.0     5.2       6.0   \n",
       "release_year  2572.0  1.993670e+03  1.915561e+01  1930.0  1984.0    1999.0   \n",
       "return        2572.0  4.067766e+02  2.008678e+04     0.0     0.0       0.0   \n",
       "\n",
       "                       75%           max  \n",
       "budget        2.100000e+07  3.800000e+08  \n",
       "revenue       8.230738e+07  2.787965e+09  \n",
       "runtime       1.080000e+02  4.760000e+02  \n",
       "vote_average  6.600000e+00  1.000000e+01  \n",
       "release_year  2.009000e+03  2.017000e+03  \n",
       "return        3.403844e+00  1.018619e+06  "
      ]
     },
     "execution_count": 9,
     "metadata": {},
     "output_type": "execute_result"
    }
   ],
   "source": [
    "# Verificamos la función describe() para obtener un resumen estadistico\n",
    "data_sin_nulos.describe().T"
   ]
  },
  {
   "cell_type": "code",
   "execution_count": 27,
   "metadata": {},
   "outputs": [
    {
     "data": {
      "text/plain": [
       "<bound method NDFrame._add_numeric_operations.<locals>.mean of 2                0.0\n",
       "4         76578911.0\n",
       "9        352194034.0\n",
       "12        11348324.0\n",
       "18       212385533.0\n",
       "            ...     \n",
       "45156            0.0\n",
       "45157            0.0\n",
       "45174            0.0\n",
       "45268            0.0\n",
       "45273            0.0\n",
       "Name: revenue, Length: 2572, dtype: float64>"
      ]
     },
     "execution_count": 27,
     "metadata": {},
     "output_type": "execute_result"
    }
   ],
   "source": [
    "# Calculamos el promedio de la columna 'revenue'\n",
    "data_sin_nulos['revenue'].mean"
   ]
  },
  {
   "cell_type": "code",
   "execution_count": 28,
   "metadata": {},
   "outputs": [
    {
     "data": {
      "image/png": "[encoded data removed]",
      "text/plain": [
       "<Figure size 1080x1080 with 6 Axes>"
      ]
     },
     "metadata": {
      "needs_background": "light"
     },
     "output_type": "display_data"
    }
   ],
   "source": [
    "#Generamos histograma para visualizar la data\n",
    "data_sin_nulos.hist(figsize=(15,15)) \n",
    "plt.tight_layout() \n",
    "plt.show()"
   ]
  },
  {
   "cell_type": "code",
   "execution_count": 29,
   "metadata": {},
   "outputs": [
    {
     "data": {
      "text/plain": [
       "0"
      ]
     },
     "execution_count": 29,
     "metadata": {},
     "output_type": "execute_result"
    }
   ],
   "source": [
    "#Verificamos datos duplicados\n",
    "data_sin_nulos.duplicated().sum()"
   ]
  },
  {
   "cell_type": "code",
   "execution_count": 30,
   "metadata": {},
   "outputs": [
    {
     "data": {
      "text/plain": [
       "popularity               0.000044\n",
       "budget                   0.000066\n",
       "release_date             0.000066\n",
       "title                    0.000066\n",
       "vote_average             0.000066\n",
       "release_year             0.000066\n",
       "month                    0.000066\n",
       "weekday                  0.000066\n",
       "original_language        0.000242\n",
       "status                   0.001829\n",
       "runtime                  0.005487\n",
       "overview                 0.020736\n",
       "tagline                  0.550497\n",
       "belongs_to_collection    0.901100\n",
       "dtype: float64"
      ]
     },
     "execution_count": 30,
     "metadata": {},
     "output_type": "execute_result"
    }
   ],
   "source": [
    "#Este código calcula la proporción de valores nulos en cada columna del DataFrame movies_data y muestra solamente aquellas columnas que tienen valores nulos.\n",
    "null = movies_data.isna().sum()/len(movies_data)\n",
    "null[null > 0].sort_values()"
   ]
  },
  {
   "cell_type": "code",
   "execution_count": 24,
   "metadata": {},
   "outputs": [],
   "source": [
    "#Creamos el informe de perfilado de datos\n",
    "profile = ProfileReport(movies_data, title='Reporte de Perfilado de Datos', explorative=True)\n"
   ]
  },
  {
   "cell_type": "code",
   "execution_count": 31,
   "metadata": {},
   "outputs": [
    {
     "data": {
      "application/vnd.jupyter.widget-view+json": {
       "model_id": "3c7be73e067248eeae9299db10b435af",
       "version_major": 2,
       "version_minor": 0
      },
      "text/plain": [
       "Export report to file:   0%|          | 0/1 [00:00<?, ?it/s]"
      ]
     },
     "metadata": {},
     "output_type": "display_data"
    }
   ],
   "source": [
    "#Se crea un archivo HTML llamado 'movies.html' que contendrá el reporte generado por el perfilador de datos\n",
    "profile.to_file(output_file='movies.html')\n"
   ]
  },
  {
   "cell_type": "code",
   "execution_count": 32,
   "metadata": {},
   "outputs": [
    {
     "data": {
      "application/vnd.jupyter.widget-view+json": {
       "model_id": "0c8f2b7a25964c09942af164fca5bfdb",
       "version_major": 2,
       "version_minor": 0
      },
      "text/plain": [
       "VBox(children=(Tab(children=(Tab(children=(GridBox(children=(VBox(children=(GridspecLayout(children=(HTML(valu…"
      ]
     },
     "metadata": {},
     "output_type": "display_data"
    }
   ],
   "source": [
    "# Crearemos  un  informe del perfil exploratorio en forma de widgets interactivos, para poder navegar por los diferentes aspectos del perfil.\n",
    "profile.to_widgets()\n"
   ]
  }
 ],
 "metadata": {
  "kernelspec": {
   "display_name": "Python 3",
   "language": "python",
   "name": "python3"
  },
  "language_info": {
   "codemirror_mode": {
    "name": "ipython",
    "version": 3
   },
   "file_extension": ".py",
   "mimetype": "text/x-python",
   "name": "python",
   "nbconvert_exporter": "python",
   "pygments_lexer": "ipython3",
   "version": "3.10.7"
  },
  "orig_nbformat": 4
 },
 "nbformat": 4,
 "nbformat_minor": 2
}
