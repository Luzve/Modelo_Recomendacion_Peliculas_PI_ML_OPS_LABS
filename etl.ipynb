{
 "cells": [
  {
   "attachments": {},
   "cell_type": "markdown",
   "metadata": {},
   "source": [
    "### ETL"
   ]
  },
  {
   "cell_type": "code",
   "execution_count": 2,
   "metadata": {},
   "outputs": [],
   "source": [
    "# Importamos las librerias a utilizar\n",
    "import pandas as pd\n",
    "import numpy as np\n",
    "import ast\n"
   ]
  },
  {
   "cell_type": "code",
   "execution_count": 3,
   "metadata": {},
   "outputs": [
    {
     "name": "stderr",
     "output_type": "stream",
     "text": [
      "C:\\Users\\ABANIBI\\AppData\\Local\\Temp\\ipykernel_12196\\3806792976.py:2: DtypeWarning: Columns (10) have mixed types. Specify dtype option on import or set low_memory=False.\n",
      "  movies = pd.read_csv('movies_dataset.csv')\n"
     ]
    },
    {
     "data": {
      "text/html": [
       "<div>\n",
       "<style scoped>\n",
       "    .dataframe tbody tr th:only-of-type {\n",
       "        vertical-align: middle;\n",
       "    }\n",
       "\n",
       "    .dataframe tbody tr th {\n",
       "        vertical-align: top;\n",
       "    }\n",
       "\n",
       "    .dataframe thead th {\n",
       "        text-align: right;\n",
       "    }\n",
       "</style>\n",
       "<table border=\"1\" class=\"dataframe\">\n",
       "  <thead>\n",
       "    <tr style=\"text-align: right;\">\n",
       "      <th></th>\n",
       "      <th>adult</th>\n",
       "      <th>belongs_to_collection</th>\n",
       "      <th>budget</th>\n",
       "      <th>genres</th>\n",
       "      <th>homepage</th>\n",
       "      <th>id</th>\n",
       "      <th>imdb_id</th>\n",
       "      <th>original_language</th>\n",
       "      <th>original_title</th>\n",
       "      <th>overview</th>\n",
       "      <th>...</th>\n",
       "      <th>release_date</th>\n",
       "      <th>revenue</th>\n",
       "      <th>runtime</th>\n",
       "      <th>spoken_languages</th>\n",
       "      <th>status</th>\n",
       "      <th>tagline</th>\n",
       "      <th>title</th>\n",
       "      <th>video</th>\n",
       "      <th>vote_average</th>\n",
       "      <th>vote_count</th>\n",
       "    </tr>\n",
       "  </thead>\n",
       "  <tbody>\n",
       "    <tr>\n",
       "      <th>0</th>\n",
       "      <td>False</td>\n",
       "      <td>{'id': 10194, 'name': 'Toy Story Collection', ...</td>\n",
       "      <td>30000000</td>\n",
       "      <td>[{'id': 16, 'name': 'Animation'}, {'id': 35, '...</td>\n",
       "      <td>http://toystory.disney.com/toy-story</td>\n",
       "      <td>862</td>\n",
       "      <td>tt0114709</td>\n",
       "      <td>en</td>\n",
       "      <td>Toy Story</td>\n",
       "      <td>Led by Woody, Andy's toys live happily in his ...</td>\n",
       "      <td>...</td>\n",
       "      <td>1995-10-30</td>\n",
       "      <td>373554033.0</td>\n",
       "      <td>81.0</td>\n",
       "      <td>[{'iso_639_1': 'en', 'name': 'English'}]</td>\n",
       "      <td>Released</td>\n",
       "      <td>NaN</td>\n",
       "      <td>Toy Story</td>\n",
       "      <td>False</td>\n",
       "      <td>7.7</td>\n",
       "      <td>5415.0</td>\n",
       "    </tr>\n",
       "    <tr>\n",
       "      <th>1</th>\n",
       "      <td>False</td>\n",
       "      <td>NaN</td>\n",
       "      <td>65000000</td>\n",
       "      <td>[{'id': 12, 'name': 'Adventure'}, {'id': 14, '...</td>\n",
       "      <td>NaN</td>\n",
       "      <td>8844</td>\n",
       "      <td>tt0113497</td>\n",
       "      <td>en</td>\n",
       "      <td>Jumanji</td>\n",
       "      <td>When siblings Judy and Peter discover an encha...</td>\n",
       "      <td>...</td>\n",
       "      <td>1995-12-15</td>\n",
       "      <td>262797249.0</td>\n",
       "      <td>104.0</td>\n",
       "      <td>[{'iso_639_1': 'en', 'name': 'English'}, {'iso...</td>\n",
       "      <td>Released</td>\n",
       "      <td>Roll the dice and unleash the excitement!</td>\n",
       "      <td>Jumanji</td>\n",
       "      <td>False</td>\n",
       "      <td>6.9</td>\n",
       "      <td>2413.0</td>\n",
       "    </tr>\n",
       "    <tr>\n",
       "      <th>2</th>\n",
       "      <td>False</td>\n",
       "      <td>{'id': 119050, 'name': 'Grumpy Old Men Collect...</td>\n",
       "      <td>0</td>\n",
       "      <td>[{'id': 10749, 'name': 'Romance'}, {'id': 35, ...</td>\n",
       "      <td>NaN</td>\n",
       "      <td>15602</td>\n",
       "      <td>tt0113228</td>\n",
       "      <td>en</td>\n",
       "      <td>Grumpier Old Men</td>\n",
       "      <td>A family wedding reignites the ancient feud be...</td>\n",
       "      <td>...</td>\n",
       "      <td>1995-12-22</td>\n",
       "      <td>0.0</td>\n",
       "      <td>101.0</td>\n",
       "      <td>[{'iso_639_1': 'en', 'name': 'English'}]</td>\n",
       "      <td>Released</td>\n",
       "      <td>Still Yelling. Still Fighting. Still Ready for...</td>\n",
       "      <td>Grumpier Old Men</td>\n",
       "      <td>False</td>\n",
       "      <td>6.5</td>\n",
       "      <td>92.0</td>\n",
       "    </tr>\n",
       "  </tbody>\n",
       "</table>\n",
       "<p>3 rows × 24 columns</p>\n",
       "</div>"
      ],
      "text/plain": [
       "   adult                              belongs_to_collection    budget  \\\n",
       "0  False  {'id': 10194, 'name': 'Toy Story Collection', ...  30000000   \n",
       "1  False                                                NaN  65000000   \n",
       "2  False  {'id': 119050, 'name': 'Grumpy Old Men Collect...         0   \n",
       "\n",
       "                                              genres  \\\n",
       "0  [{'id': 16, 'name': 'Animation'}, {'id': 35, '...   \n",
       "1  [{'id': 12, 'name': 'Adventure'}, {'id': 14, '...   \n",
       "2  [{'id': 10749, 'name': 'Romance'}, {'id': 35, ...   \n",
       "\n",
       "                               homepage     id    imdb_id original_language  \\\n",
       "0  http://toystory.disney.com/toy-story    862  tt0114709                en   \n",
       "1                                   NaN   8844  tt0113497                en   \n",
       "2                                   NaN  15602  tt0113228                en   \n",
       "\n",
       "     original_title                                           overview  ...  \\\n",
       "0         Toy Story  Led by Woody, Andy's toys live happily in his ...  ...   \n",
       "1           Jumanji  When siblings Judy and Peter discover an encha...  ...   \n",
       "2  Grumpier Old Men  A family wedding reignites the ancient feud be...  ...   \n",
       "\n",
       "  release_date      revenue runtime  \\\n",
       "0   1995-10-30  373554033.0    81.0   \n",
       "1   1995-12-15  262797249.0   104.0   \n",
       "2   1995-12-22          0.0   101.0   \n",
       "\n",
       "                                    spoken_languages    status  \\\n",
       "0           [{'iso_639_1': 'en', 'name': 'English'}]  Released   \n",
       "1  [{'iso_639_1': 'en', 'name': 'English'}, {'iso...  Released   \n",
       "2           [{'iso_639_1': 'en', 'name': 'English'}]  Released   \n",
       "\n",
       "                                             tagline             title  video  \\\n",
       "0                                                NaN         Toy Story  False   \n",
       "1          Roll the dice and unleash the excitement!           Jumanji  False   \n",
       "2  Still Yelling. Still Fighting. Still Ready for...  Grumpier Old Men  False   \n",
       "\n",
       "  vote_average vote_count  \n",
       "0          7.7     5415.0  \n",
       "1          6.9     2413.0  \n",
       "2          6.5       92.0  \n",
       "\n",
       "[3 rows x 24 columns]"
      ]
     },
     "execution_count": 3,
     "metadata": {},
     "output_type": "execute_result"
    }
   ],
   "source": [
    "# Abrimos el csv con pandas para su posterior tratamiento y visualización\n",
    "movies = pd.read_csv('movies_dataset.csv')\n",
    "movies.head(3)\n"
   ]
  },
  {
   "cell_type": "code",
   "execution_count": 4,
   "metadata": {},
   "outputs": [
    {
     "name": "stdout",
     "output_type": "stream",
     "text": [
      "<class 'pandas.core.frame.DataFrame'>\n",
      "RangeIndex: 45466 entries, 0 to 45465\n",
      "Data columns (total 24 columns):\n",
      " #   Column                 Non-Null Count  Dtype  \n",
      "---  ------                 --------------  -----  \n",
      " 0   adult                  45466 non-null  object \n",
      " 1   belongs_to_collection  4494 non-null   object \n",
      " 2   budget                 45466 non-null  object \n",
      " 3   genres                 45466 non-null  object \n",
      " 4   homepage               7782 non-null   object \n",
      " 5   id                     45466 non-null  object \n",
      " 6   imdb_id                45449 non-null  object \n",
      " 7   original_language      45455 non-null  object \n",
      " 8   original_title         45466 non-null  object \n",
      " 9   overview               44512 non-null  object \n",
      " 10  popularity             45461 non-null  object \n",
      " 11  poster_path            45080 non-null  object \n",
      " 12  production_companies   45463 non-null  object \n",
      " 13  production_countries   45463 non-null  object \n",
      " 14  release_date           45379 non-null  object \n",
      " 15  revenue                45460 non-null  float64\n",
      " 16  runtime                45203 non-null  float64\n",
      " 17  spoken_languages       45460 non-null  object \n",
      " 18  status                 45379 non-null  object \n",
      " 19  tagline                20412 non-null  object \n",
      " 20  title                  45460 non-null  object \n",
      " 21  video                  45460 non-null  object \n",
      " 22  vote_average           45460 non-null  float64\n",
      " 23  vote_count             45460 non-null  float64\n",
      "dtypes: float64(4), object(20)\n",
      "memory usage: 8.3+ MB\n"
     ]
    }
   ],
   "source": [
    "#Verificamos información sobre las columnas y sus tipos de datos, así como la cantidad de valores no nulos en cada columna.\n",
    "movies.info()"
   ]
  },
  {
   "attachments": {},
   "cell_type": "markdown",
   "metadata": {},
   "source": [
    "### Transformaciones:\n",
    "\n",
    "Algunos campos, como belongs_to_collection, production_companies y otros \n",
    "(ver diccionario de datos) están anidados, esto es o bien tienen un diccionario\n",
    "o una lista como valores en cada fila, ¡deberán desanidarlos para poder y unirlos \n",
    "al dataset de nuevo hacer alguna de las consultas de la API! O bien buscar la manera \n",
    "de acceder a esos datos sin desanidarlos."
   ]
  },
  {
   "cell_type": "code",
   "execution_count": 5,
   "metadata": {},
   "outputs": [
    {
     "data": {
      "text/plain": [
       "40972"
      ]
     },
     "execution_count": 5,
     "metadata": {},
     "output_type": "execute_result"
    }
   ],
   "source": [
    "#Verifica nulos en la columna [belongs_to_collection]\n",
    "movies.belongs_to_collection.isnull().sum() "
   ]
  },
  {
   "cell_type": "code",
   "execution_count": 6,
   "metadata": {},
   "outputs": [],
   "source": [
    "def fetch_name(obj): #convierte una cadena que representa una lista de diccionarios en una lista de nombres de los valores asociados a una clave en los diccionarios.\n",
    "    try:\n",
    "        L=[]\n",
    "        for i in ast.literal_eval(obj):\n",
    "            L.append(i['name']);\n",
    "        return L\n",
    "    except (ValueError, TypeError):\n",
    "        return []\n",
    "\n",
    "def fetch_name2(obj):  #extrae el valor asociado a la clave 'name' de un diccionario que está representado como una cadena.\n",
    "    \n",
    "    if isinstance(obj, str) and '{' in obj:\n",
    "        dic = ast.literal_eval(obj)\n",
    "\n",
    "        return dic['name']\n",
    "\n",
    "\n",
    "\n",
    "movies['genres'] = movies['genres'].apply(fetch_name) #La función convierte la lista de diccionarios en una lista de los nombres de los géneros.\n",
    "movies['belongs_to_collection'] = movies['belongs_to_collection'].apply(fetch_name2) #La función extrae el nombre de la colección del diccionario y lo guarda en una nueva columna.\n",
    "movies['production_companies']  = movies['production_companies'].apply(fetch_name)# La función convierte la lista de diccionarios en una lista de los nombres de las compañías.\n",
    "movies['production_countries']  = movies['production_countries'].apply(fetch_name)#  La función convierte la lista de diccionarios en una lista de los nombres de los países.\n",
    "movies['spoken_languages']      = movies['spoken_languages'].apply(fetch_name)# La función convierte la lista de diccionarios en una lista de los nombres de los idiomas."
   ]
  },
  {
   "cell_type": "code",
   "execution_count": 7,
   "metadata": {},
   "outputs": [],
   "source": [
    "# Reemplazamos los None por 'Sin dato'\n",
    "#movies['belongs_to_collection'].fillna('Sin dato', inplace=True)\n"
   ]
  },
  {
   "cell_type": "code",
   "execution_count": 8,
   "metadata": {},
   "outputs": [
    {
     "data": {
      "text/plain": [
       "0                  Toy Story Collection\n",
       "1                                  None\n",
       "2             Grumpy Old Men Collection\n",
       "3                                  None\n",
       "4        Father of the Bride Collection\n",
       "                      ...              \n",
       "45461                              None\n",
       "45462                              None\n",
       "45463                              None\n",
       "45464                              None\n",
       "45465                              None\n",
       "Name: belongs_to_collection, Length: 45466, dtype: object"
      ]
     },
     "execution_count": 8,
     "metadata": {},
     "output_type": "execute_result"
    }
   ],
   "source": [
    "#Verificamos la columna 'belongs_to_collection'\n",
    "movies['belongs_to_collection']"
   ]
  },
  {
   "attachments": {},
   "cell_type": "markdown",
   "metadata": {},
   "source": [
    "Los valores nulos de los campos revenue, budget deben ser rellenados por el número 0."
   ]
  },
  {
   "cell_type": "code",
   "execution_count": 9,
   "metadata": {},
   "outputs": [
    {
     "data": {
      "text/plain": [
       "6"
      ]
     },
     "execution_count": 9,
     "metadata": {},
     "output_type": "execute_result"
    }
   ],
   "source": [
    "#Verificamos valores nulos de la columna 'revenue'\n",
    "movies['revenue'].isnull().sum()"
   ]
  },
  {
   "cell_type": "code",
   "execution_count": 10,
   "metadata": {},
   "outputs": [
    {
     "data": {
      "text/plain": [
       "0"
      ]
     },
     "execution_count": 10,
     "metadata": {},
     "output_type": "execute_result"
    }
   ],
   "source": [
    "#Verificamos valores nulos de la columna 'budget'\n",
    "movies['budget'].isnull().sum()"
   ]
  },
  {
   "cell_type": "code",
   "execution_count": 11,
   "metadata": {},
   "outputs": [],
   "source": [
    "# Reemplazamos los nulos por 0, en este caso solo la columna ´revenue'\n",
    "movies['revenue'] = movies['revenue'].fillna(0)"
   ]
  },
  {
   "attachments": {},
   "cell_type": "markdown",
   "metadata": {},
   "source": [
    "Los valores nulos del campo release date deben eliminarse."
   ]
  },
  {
   "cell_type": "code",
   "execution_count": 12,
   "metadata": {},
   "outputs": [
    {
     "data": {
      "text/plain": [
       "87"
      ]
     },
     "execution_count": 12,
     "metadata": {},
     "output_type": "execute_result"
    }
   ],
   "source": [
    "#Verificamos datos nulos en la columna 'release_date'\n",
    "movies['release_date'].isnull().sum()"
   ]
  },
  {
   "cell_type": "code",
   "execution_count": 13,
   "metadata": {},
   "outputs": [],
   "source": [
    "# Eliminamos los valores nulos en la columna 'release_date'\n",
    "movies = movies.dropna(subset=['release_date'])\n",
    "\n"
   ]
  },
  {
   "attachments": {},
   "cell_type": "markdown",
   "metadata": {},
   "source": [
    "De haber fechas, deberán tener el formato AAAA-mm-dd, además deberán crear la columna release_year donde extraerán el año de la fecha de estreno."
   ]
  },
  {
   "cell_type": "code",
   "execution_count": 14,
   "metadata": {},
   "outputs": [],
   "source": [
    "#Convierte la columna \"release_date\" en una columna de fecha y asegura que los valores que no se pueden convertir sean reemplazados por valores nulos.\n",
    "movies[\"release_date\"] = pd.to_datetime(movies[\"release_date\"], errors=\"coerce\")\n"
   ]
  },
  {
   "cell_type": "code",
   "execution_count": 15,
   "metadata": {},
   "outputs": [
    {
     "data": {
      "text/plain": [
       "0       1995-10-30\n",
       "1       1995-12-15\n",
       "2       1995-12-22\n",
       "3       1995-12-22\n",
       "4       1995-02-10\n",
       "           ...    \n",
       "45460   1991-05-13\n",
       "45462   2011-11-17\n",
       "45463   2003-08-01\n",
       "45464   1917-10-21\n",
       "45465   2017-06-09\n",
       "Name: release_date, Length: 45379, dtype: datetime64[ns]"
      ]
     },
     "execution_count": 15,
     "metadata": {},
     "output_type": "execute_result"
    }
   ],
   "source": [
    "#Verificamos la columna 'release_date'\n",
    "movies['release_date']"
   ]
  },
  {
   "cell_type": "code",
   "execution_count": 16,
   "metadata": {},
   "outputs": [],
   "source": [
    "#Creamos una nueva columna 'release_year' y extraemos el año de la columna\n",
    "movies['release_year'] = movies['release_date'].dt.year\n",
    "movies[\"release_year\"] = pd.to_datetime(movies[\"release_date\"], errors=\"coerce\")\n",
    "movies['release_year'] = movies['release_year'].dt.strftime('%Y')"
   ]
  },
  {
   "attachments": {},
   "cell_type": "markdown",
   "metadata": {},
   "source": [
    "Crear la columna con el retorno de inversión, llamada return con los campos revenue y budget, dividiendo estas dos últimas revenue / budget, cuando no hay datos disponibles para calcularlo, deberá tomar el valor 0."
   ]
  },
  {
   "cell_type": "code",
   "execution_count": 17,
   "metadata": {},
   "outputs": [
    {
     "data": {
      "text/plain": [
       "count     45379\n",
       "unique     1226\n",
       "top           0\n",
       "freq      36490\n",
       "Name: budget, dtype: object"
      ]
     },
     "execution_count": 17,
     "metadata": {},
     "output_type": "execute_result"
    }
   ],
   "source": [
    "movies['budget'].describe() # Devuelve un resumen estadístico de la columna \"budget\" "
   ]
  },
  {
   "cell_type": "code",
   "execution_count": 18,
   "metadata": {},
   "outputs": [],
   "source": [
    "# Convierte valores numéricos \n",
    "movies['budget'] = pd.to_numeric(movies['budget'], errors='coerce')"
   ]
  },
  {
   "cell_type": "code",
   "execution_count": 19,
   "metadata": {},
   "outputs": [],
   "source": [
    "# Función para calcular el retorno de inversión\n",
    "def calculate_return(row):\n",
    "    revenue = row['revenue']\n",
    "    budget = row['budget']\n",
    "    if pd.isnull(revenue) or pd.isnull(budget) or budget == 0:\n",
    "        return 0\n",
    "    return revenue / budget\n",
    "\n",
    "# Se crea la nueva columna 'return' y aplica la función calculte_return a cada fila del dataframe\n",
    "movies['return'] = movies.apply(calculate_return, axis=1)\n"
   ]
  },
  {
   "cell_type": "code",
   "execution_count": 20,
   "metadata": {},
   "outputs": [
    {
     "data": {
      "text/plain": [
       "0        12.451801\n",
       "1         4.043035\n",
       "2         0.000000\n",
       "3         5.090760\n",
       "4         0.000000\n",
       "           ...    \n",
       "45460     0.000000\n",
       "45462     0.000000\n",
       "45463     0.000000\n",
       "45464     0.000000\n",
       "45465     0.000000\n",
       "Name: return, Length: 45379, dtype: float64"
      ]
     },
     "execution_count": 20,
     "metadata": {},
     "output_type": "execute_result"
    }
   ],
   "source": [
    "# Verificamos la columna 'return'\n",
    "movies['return']"
   ]
  },
  {
   "attachments": {},
   "cell_type": "markdown",
   "metadata": {},
   "source": [
    "Eliminar las columnas que no serán utilizadas, video,imdb_id,adult,original_title,vote_count,poster_path y homepage."
   ]
  },
  {
   "cell_type": "code",
   "execution_count": 21,
   "metadata": {},
   "outputs": [
    {
     "data": {
      "text/plain": [
       "Index(['adult', 'belongs_to_collection', 'budget', 'genres', 'homepage', 'id',\n",
       "       'imdb_id', 'original_language', 'original_title', 'overview',\n",
       "       'popularity', 'poster_path', 'production_companies',\n",
       "       'production_countries', 'release_date', 'revenue', 'runtime',\n",
       "       'spoken_languages', 'status', 'tagline', 'title', 'video',\n",
       "       'vote_average', 'vote_count', 'release_year', 'return'],\n",
       "      dtype='object')"
      ]
     },
     "execution_count": 21,
     "metadata": {},
     "output_type": "execute_result"
    }
   ],
   "source": [
    "#Verificamos las columnas de dataset\n",
    "movies.columns"
   ]
  },
  {
   "cell_type": "code",
   "execution_count": 22,
   "metadata": {},
   "outputs": [],
   "source": [
    "#Eliminamos las columnas que nos asignaron\n",
    "movies = movies.drop(['video', 'imdb_id', 'adult', 'original_title', 'vote_count', 'poster_path', 'homepage' ], axis=1)\n"
   ]
  },
  {
   "attachments": {},
   "cell_type": "markdown",
   "metadata": {},
   "source": [
    "Crear 6 funciones para los endpoints que se consumirán en la API"
   ]
  },
  {
   "cell_type": "code",
   "execution_count": 23,
   "metadata": {},
   "outputs": [],
   "source": [
    "#Agrega una nueva columna llamada 'month' y extrae el nombre del mes de cada fecha\n",
    "movies['month'] = movies['release_date'].dt.month_name()"
   ]
  },
  {
   "cell_type": "code",
   "execution_count": 24,
   "metadata": {},
   "outputs": [
    {
     "data": {
      "text/plain": [
       "0         October\n",
       "1        December\n",
       "2        December\n",
       "3        December\n",
       "4        February\n",
       "           ...   \n",
       "45460         May\n",
       "45462    November\n",
       "45463      August\n",
       "45464     October\n",
       "45465        June\n",
       "Name: month, Length: 45379, dtype: object"
      ]
     },
     "execution_count": 24,
     "metadata": {},
     "output_type": "execute_result"
    }
   ],
   "source": [
    "#Verificamos la columna 'month'\n",
    "movies.month"
   ]
  },
  {
   "cell_type": "code",
   "execution_count": 25,
   "metadata": {},
   "outputs": [],
   "source": [
    "# Obtenemos el número de películas lanzadas en un mes específico\n",
    "def peliculas_mes(mes):\n",
    "    mes = mes.capitalize() #convierte el primer carácter de la cadena a mayúscula y el resto de los caracteres a minúscula.\n",
    "    cantidad = movies.loc[movies['month'] == mes, 'title'].count()\n",
    "    return {'mes':mes.lower(), 'cantidad':cantidad}"
   ]
  },
  {
   "cell_type": "code",
   "execution_count": 26,
   "metadata": {},
   "outputs": [
    {
     "data": {
      "text/plain": [
       "array(['October', 'December', 'February', 'November', 'September', 'May',\n",
       "       'April', 'August', 'July', 'June', 'January', 'March', nan],\n",
       "      dtype=object)"
      ]
     },
     "execution_count": 26,
     "metadata": {},
     "output_type": "execute_result"
    }
   ],
   "source": [
    "#Verificamos los valores únicos de la columna \n",
    "movies['month'].unique()"
   ]
  },
  {
   "cell_type": "code",
   "execution_count": 27,
   "metadata": {},
   "outputs": [],
   "source": [
    "#Reemplazamos el valor de los meses en inglés por el nombre en español\n",
    "movies['month'] = movies['month'].replace('January', 'Enero')\n",
    "movies['month'] = movies['month'].replace('February', 'Febrero')\n",
    "movies['month'] = movies['month'].replace('March', 'Marzo')\n",
    "movies['month'] = movies['month'].replace('April', 'Abril')\n",
    "movies['month'] = movies['month'].replace('May', 'Mayo')\n",
    "movies['month'] = movies['month'].replace('June', 'Junio')\n",
    "movies['month'] = movies['month'].replace('July', 'Julio')\n",
    "movies['month'] = movies['month'].replace('August', 'Agosto')\n",
    "movies['month'] = movies['month'].replace('September', 'Setiembre')\n",
    "movies['month'] = movies['month'].replace('October', 'Octubre')\n",
    "movies['month'] = movies['month'].replace('November', 'Noviembre')\n",
    "movies['month'] = movies['month'].replace('December', 'Diciembre')"
   ]
  },
  {
   "attachments": {},
   "cell_type": "markdown",
   "metadata": {},
   "source": [
    "1. def peliculas_mes(mes): '''Se ingresa el mes y la funcion retorna la cantidad de peliculas que se estrenaron ese mes (nombre del mes, en str, ejemplo 'enero') historicamente''' return {'mes':mes, 'cantidad':respuesta}"
   ]
  },
  {
   "cell_type": "code",
   "execution_count": 28,
   "metadata": {},
   "outputs": [
    {
     "data": {
      "text/plain": [
       "{'mes': 'agosto', 'cantidad': 3394}"
      ]
     },
     "execution_count": 28,
     "metadata": {},
     "output_type": "execute_result"
    }
   ],
   "source": [
    "peliculas_mes('AGOSTO')"
   ]
  },
  {
   "attachments": {},
   "cell_type": "markdown",
   "metadata": {},
   "source": [
    "2. def peliculas_dia(dia): '''Se ingresa el dia y la funcion retorna la cantidad de peliculas que se estrenaron ese dia (de la semana, en str, ejemplo 'lunes') historicamente''' return {'dia':dia, 'cantidad':respuesta}"
   ]
  },
  {
   "cell_type": "code",
   "execution_count": 29,
   "metadata": {},
   "outputs": [],
   "source": [
    "#Crea una nueva columna 'weekday' que contiene el nombre del día de la semana \n",
    "movies['weekday'] = movies['release_date'].dt.strftime('%A')"
   ]
  },
  {
   "cell_type": "code",
   "execution_count": 30,
   "metadata": {},
   "outputs": [
    {
     "data": {
      "text/plain": [
       "array(['Monday', 'Friday', 'Thursday', 'Wednesday', 'Saturday', 'Tuesday',\n",
       "       'Sunday', nan], dtype=object)"
      ]
     },
     "execution_count": 30,
     "metadata": {},
     "output_type": "execute_result"
    }
   ],
   "source": [
    "#Verificamos valores únicos\n",
    "movies['weekday'].unique()"
   ]
  },
  {
   "cell_type": "code",
   "execution_count": 31,
   "metadata": {},
   "outputs": [],
   "source": [
    "#Reemplazamos el valor de los nombres de la semana en inglés por el nombre en español\n",
    "movies['weekday'] = movies['weekday'].replace('Monday', 'Lunes')\n",
    "movies['weekday'] = movies['weekday'].replace('Tuesday', 'Martes')\n",
    "movies['weekday'] = movies['weekday'].replace('Wednesday', 'Miercoles')\n",
    "movies['weekday'] = movies['weekday'].replace('Thursday', 'Jueves')\n",
    "movies['weekday'] = movies['weekday'].replace('Friday', 'Viernes')\n",
    "movies['weekday'] = movies['weekday'].replace('Saturday', 'Sabado')\n",
    "movies['weekday'] = movies['weekday'].replace('Sunday', 'Domingo')"
   ]
  },
  {
   "cell_type": "code",
   "execution_count": 32,
   "metadata": {},
   "outputs": [
    {
     "data": {
      "text/plain": [
       "0          Lunes\n",
       "1        Viernes\n",
       "2        Viernes\n",
       "3        Viernes\n",
       "4        Viernes\n",
       "          ...   \n",
       "45460      Lunes\n",
       "45462     Jueves\n",
       "45463    Viernes\n",
       "45464    Domingo\n",
       "45465    Viernes\n",
       "Name: weekday, Length: 45379, dtype: object"
      ]
     },
     "execution_count": 32,
     "metadata": {},
     "output_type": "execute_result"
    }
   ],
   "source": [
    "movies.weekday #Verificamos la columna 'weekday'"
   ]
  },
  {
   "cell_type": "code",
   "execution_count": 33,
   "metadata": {},
   "outputs": [],
   "source": [
    "#la función devuelve un diccionario con el nombre del día de la semana y la cantidad de películas lanzadas en ese día.\n",
    "def peliculas_dia(dia):\n",
    "    dia = dia.capitalize()\n",
    "    cantidad = movies.loc[movies['weekday'] == dia, 'title'].count()\n",
    "    return {'dia':dia, 'cantidad':cantidad}\n",
    "\n",
    "\n"
   ]
  },
  {
   "cell_type": "code",
   "execution_count": 34,
   "metadata": {},
   "outputs": [
    {
     "data": {
      "text/plain": [
       "{'dia': 'Lunes', 'cantidad': 3503}"
      ]
     },
     "execution_count": 34,
     "metadata": {},
     "output_type": "execute_result"
    }
   ],
   "source": [
    "peliculas_dia('Lunes')"
   ]
  },
  {
   "attachments": {},
   "cell_type": "markdown",
   "metadata": {},
   "source": [
    "3. def franquicia(franquicia): '''Se ingresa la franquicia, retornando la cantidad de peliculas, ganancia total y promedio''' return {'franquicia':franquicia, 'cantidad':respuesta, 'ganancia_total':respuesta, 'ganancia_promedio':respuesta}"
   ]
  },
  {
   "cell_type": "code",
   "execution_count": 35,
   "metadata": {},
   "outputs": [],
   "source": [
    "#toma como entrada el nombre de una franquicia de películas y devuelve un diccionario con información relevante de la franquicia, \n",
    "def franquicia_info(franquicia):\n",
    "    cantidad_peliculas = (movies[movies['belongs_to_collection'] == franquicia]).shape[0]\n",
    "    df_presupuesto = (movies[movies['belongs_to_collection'] == franquicia])['budget']\n",
    "    df_ingresos = (movies[movies['belongs_to_collection'] == franquicia])['revenue']\n",
    "    ganancia_total = df_ingresos.sum() - df_presupuesto.sum()\n",
    "    ganancia_promedio = ganancia_total/cantidad_peliculas\n",
    "    return{'franquicia':franquicia , 'cantidad':cantidad_peliculas, 'ganancia_total':ganancia_total, 'ganancia_promedio':ganancia_promedio}"
   ]
  },
  {
   "cell_type": "code",
   "execution_count": 36,
   "metadata": {},
   "outputs": [
    {
     "data": {
      "text/plain": [
       "{'franquicia': 'Toy Story Collection',\n",
       " 'cantidad': 3,\n",
       " 'ganancia_total': 1617890605.0,\n",
       " 'ganancia_promedio': 539296868.3333334}"
      ]
     },
     "execution_count": 36,
     "metadata": {},
     "output_type": "execute_result"
    }
   ],
   "source": [
    "franquicia_info('Toy Story Collection')"
   ]
  },
  {
   "attachments": {},
   "cell_type": "markdown",
   "metadata": {},
   "source": [
    "4. def peliculas_pais(pais): '''Ingresas el pais, retornando la cantidad de peliculas producidas en el mismo''' return {'pais':pais, 'cantidad':respuesta}"
   ]
  },
  {
   "cell_type": "code",
   "execution_count": 37,
   "metadata": {},
   "outputs": [],
   "source": [
    "#Esta función busca el número de películas que fueron producidas en un país específico.\n",
    "def peliculas_pais(pais):\n",
    "    pais = pais.lower()\n",
    "    cantidad = movies[movies['production_countries'].apply(lambda x: pais in [i.lower() for i in x])]['title'].count()\n",
    "    return {'pais':pais, 'cantidad':cantidad}"
   ]
  },
  {
   "cell_type": "code",
   "execution_count": 38,
   "metadata": {},
   "outputs": [
    {
     "data": {
      "text/plain": [
       "{'pais': 'philippines', 'cantidad': 83}"
      ]
     },
     "execution_count": 38,
     "metadata": {},
     "output_type": "execute_result"
    }
   ],
   "source": [
    "peliculas_pais('Philippines')"
   ]
  },
  {
   "cell_type": "code",
   "execution_count": 39,
   "metadata": {},
   "outputs": [
    {
     "data": {
      "text/plain": [
       "{'pais': 'united states of america', 'cantidad': 21147}"
      ]
     },
     "execution_count": 39,
     "metadata": {},
     "output_type": "execute_result"
    }
   ],
   "source": [
    "peliculas_pais('United States of America')"
   ]
  },
  {
   "attachments": {},
   "cell_type": "markdown",
   "metadata": {},
   "source": [
    "5. def productoras(productora): '''Ingresas la productora, retornando la ganancia total y la cantidad de peliculas que produjeron''' return {'productora':productora, 'ganancia_total':respuesta, 'cantidad':respuesta}"
   ]
  },
  {
   "cell_type": "code",
   "execution_count": 40,
   "metadata": {},
   "outputs": [],
   "source": [
    "#Selecciona las películas que fueron producidas, calcula la cantidad de películas y calcula la ganancia total sumando los ingresos y restando los presupuestos, y devuelve los resultados en un diccionario.\n",
    "def productoras(productora):\n",
    "    productora = productora.lower()\n",
    "    df = movies[movies['production_companies'].apply(lambda x: productora in [i.lower() for i in x])]\n",
    "    cantidad_peliculas = df.shape[0]\n",
    "    df_presupuesto = df['budget']\n",
    "    df_ingresos = df['revenue']\n",
    "    ganancia_total = df_ingresos.sum() - df_presupuesto.sum()\n",
    "    return{'productora':productora , 'ganancia_total':ganancia_total, 'cantidad':cantidad_peliculas}\n"
   ]
  },
  {
   "cell_type": "code",
   "execution_count": 41,
   "metadata": {},
   "outputs": [
    {
     "data": {
      "text/plain": [
       "{'productora': 'warner bros.',\n",
       " 'ganancia_total': 39967916117.0,\n",
       " 'cantidad': 1250}"
      ]
     },
     "execution_count": 41,
     "metadata": {},
     "output_type": "execute_result"
    }
   ],
   "source": [
    "productoras('Warner Bros.')"
   ]
  },
  {
   "attachments": {},
   "cell_type": "markdown",
   "metadata": {},
   "source": [
    "6. def retorno(pelicula): '''Ingresas la pelicula, retornando la inversion, la ganancia, el retorno y el año en el que se lanzo''' return {'pelicula':pelicula, 'inversion':respuesta, 'ganacia':respuesta,'retorno':respuesta, 'anio':respuesta}"
   ]
  },
  {
   "cell_type": "code",
   "execution_count": 42,
   "metadata": {},
   "outputs": [],
   "source": [
    "#La función selecciona las películas que fueron producidas por la productora, calcula la cantidad de películas y crea dos nuevas Series para el presupuesto y los ingresos\n",
    "#y al final calcula la ganancia\n",
    "def retorno(pelicula):\n",
    "    df = movies[movies['title'] == pelicula]\n",
    "    inversion = df['budget'].sum()\n",
    "    ganancia = df['revenue'].sum()\n",
    "    retorno = ganancia / inversion\n",
    "    año = df['release_year'].iloc[0]\n",
    "    return {'pelicula':pelicula, 'inversion':inversion, 'ganancia':ganancia, 'retorno':retorno, 'año':año}"
   ]
  },
  {
   "cell_type": "code",
   "execution_count": 43,
   "metadata": {},
   "outputs": [
    {
     "data": {
      "text/plain": [
       "{'pelicula': 'Toy Story',\n",
       " 'inversion': 30000000.0,\n",
       " 'ganancia': 373554033.0,\n",
       " 'retorno': 12.4518011,\n",
       " 'año': '1995'}"
      ]
     },
     "execution_count": 43,
     "metadata": {},
     "output_type": "execute_result"
    }
   ],
   "source": [
    "retorno('Toy Story')"
   ]
  },
  {
   "cell_type": "code",
   "execution_count": 44,
   "metadata": {},
   "outputs": [],
   "source": [
    "#Guardamos nuestra data en un csv\n",
    "movies.to_csv('data_movies.csv',index=False)"
   ]
  }
 ],
 "metadata": {
  "kernelspec": {
   "display_name": "Python 3",
   "language": "python",
   "name": "python3"
  },
  "language_info": {
   "codemirror_mode": {
    "name": "ipython",
    "version": 3
   },
   "file_extension": ".py",
   "mimetype": "text/x-python",
   "name": "python",
   "nbconvert_exporter": "python",
   "pygments_lexer": "ipython3",
   "version": "3.10.7"
  },
  "orig_nbformat": 4
 },
 "nbformat": 4,
 "nbformat_minor": 2
}
